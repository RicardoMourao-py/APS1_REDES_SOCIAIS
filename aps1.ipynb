{
 "cells": [
  {
   "cell_type": "markdown",
   "id": "d3b40433",
   "metadata": {},
   "source": [
    " 1. Construa um grafo baseado nesse dataset. (tutoriais A1, A3)"
   ]
  },
  {
   "cell_type": "code",
   "execution_count": 1,
   "id": "50f3b2da",
   "metadata": {},
   "outputs": [
    {
     "ename": "ModuleNotFoundError",
     "evalue": "No module named 'netpixi'",
     "output_type": "error",
     "traceback": [
      "\u001b[1;31m---------------------------------------------------------------------------\u001b[0m",
      "\u001b[1;31mModuleNotFoundError\u001b[0m                       Traceback (most recent call last)",
      "\u001b[1;32mc:\\Users\\ricar\\OneDrive - Insper - Institudo de Ensino e Pesquisa\\Sexto_Semestre\\REDESOC\\APS1\\APS1_REDES_SOCIAIS\\aps1.ipynb Cell 2\u001b[0m in \u001b[0;36m<cell line: 1>\u001b[1;34m()\u001b[0m\n\u001b[1;32m----> <a href='vscode-notebook-cell:/c%3A/Users/ricar/OneDrive%20-%20Insper%20-%20Institudo%20de%20Ensino%20e%20Pesquisa/Sexto_Semestre/REDESOC/APS1/APS1_REDES_SOCIAIS/aps1.ipynb#W1sZmlsZQ%3D%3D?line=0'>1</a>\u001b[0m \u001b[39mfrom\u001b[39;00m \u001b[39mnetpixi\u001b[39;00m\u001b[39m.\u001b[39;00m\u001b[39mintegration\u001b[39;00m\u001b[39m.\u001b[39;00m\u001b[39mgt\u001b[39;00m \u001b[39mimport\u001b[39;00m Graph\n\u001b[0;32m      <a href='vscode-notebook-cell:/c%3A/Users/ricar/OneDrive%20-%20Insper%20-%20Institudo%20de%20Ensino%20e%20Pesquisa/Sexto_Semestre/REDESOC/APS1/APS1_REDES_SOCIAIS/aps1.ipynb#W1sZmlsZQ%3D%3D?line=2'>3</a>\u001b[0m g \u001b[39m=\u001b[39m Graph(directed\u001b[39m=\u001b[39m\u001b[39mTrue\u001b[39;00m)\n",
      "\u001b[1;31mModuleNotFoundError\u001b[0m: No module named 'netpixi'"
     ]
    }
   ],
   "source": [
    "from netpixi.integration.gt import Graph\n",
    "\n",
    "g = Graph(directed=True) # dirigido"
   ]
  },
  {
   "cell_type": "code",
   "execution_count": null,
   "id": "269aeee3",
   "metadata": {},
   "outputs": [],
   "source": [
    "# criando vertices\n",
    "g.add_vertex('ego')\n",
    "g.add_vertex('facebook')\n",
    "g.add_vertex('twitter')\n",
    "g.add_vertex('gplus')"
   ]
  },
  {
   "cell_type": "code",
   "execution_count": null,
   "id": "5cf37402",
   "metadata": {},
   "outputs": [],
   "source": [
    "# criando arestas\n",
    "g.add_edge('ego', 'facebook')\n",
    "g.add_edge('ego', 'twitter')\n",
    "g.add_edge('ego', 'gplus')"
   ]
  }
 ],
 "metadata": {
  "kernelspec": {
   "display_name": "base",
   "language": "python",
   "name": "python3"
  },
  "language_info": {
   "codemirror_mode": {
    "name": "ipython",
    "version": 3
   },
   "file_extension": ".py",
   "mimetype": "text/x-python",
   "name": "python",
   "nbconvert_exporter": "python",
   "pygments_lexer": "ipython3",
   "version": "3.8.3"
  },
  "vscode": {
   "interpreter": {
    "hash": "5335a8765090dd2dbfd45734669c2d78ccd22cd9d5ba95affdded5b1b4e7fe14"
   }
  }
 },
 "nbformat": 4,
 "nbformat_minor": 5
}
