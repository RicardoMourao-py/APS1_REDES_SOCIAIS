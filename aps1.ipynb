{
 "cells": [
  {
   "cell_type": "markdown",
   "id": "06ee33e1",
   "metadata": {
    "scrolled": true
   },
   "source": [
    "# APS 1\n",
    "### Disciplina: Redes Sociais\n",
    "\n",
    "\n",
    "### Alunos:\n",
    "* Matheus Silva Melo de Oliveira\n",
    "* Nívea de Abreu de Dantas Lima\n",
    "* Ricardo Mourão Filho\n",
    "\n",
    "### Dataset escolhido: *Arxiv COND-MAT (Condense Matter Physics) collaboration network* \n",
    "Este abrange colaborações científicas entre artigos de autores submetidos à categoria de física relacioanda à matéria condensada. Se um autor **i** é coautor de um artigo com o autor **j**, o grafo contém uma aresta não direcionada de **i** para **j**. Se o artigo tiver a coautoria de **k** autores, isso gera um (sub)grafo completamente conectado em **k** nós."
   ]
  },
  {
   "cell_type": "code",
   "execution_count": 1,
   "id": "8ee04fcc",
   "metadata": {},
   "outputs": [
    {
     "data": {
      "text/html": [
       "\n",
       "    <script src=\"/files/netpixi.min.js\"></script>\n"
      ],
      "text/plain": [
       "<IPython.core.display.HTML object>"
      ]
     },
     "metadata": {},
     "output_type": "display_data"
    }
   ],
   "source": [
    "from netpixi.integration.gt import Graph\n",
    "\n",
    "g = Graph(directed=False)"
   ]
  },
  {
   "cell_type": "markdown",
   "id": "e9a79221",
   "metadata": {},
   "source": [
    "### Lendo dataset\n",
    "Realiza-se a leitura do arquivo de texto com as informações para preenchimento do grafo. Pode-se notar que as quatros primeiras linhas são metadados do arquivo que podem ser interessantes para verificação posterior do grafo, como número de vértices e arestas.\n",
    "\n",
    "Cria-se duas estruturas de dados para armazenamento temporário de vértices e arestas, antes da utilização dos métodos com tais funções propriamente. Para armazenar os vértices, fora utilizada um set, para evitar o armazenamento de vértices repetidos. Para armazenar arestas, utilizou-se uma lista."
   ]
  },
  {
   "cell_type": "code",
   "execution_count": 2,
   "id": "82c77fb3",
   "metadata": {},
   "outputs": [
    {
     "name": "stdout",
     "output_type": "stream",
     "text": [
      "# Directed graph (each unordered pair of nodes is saved once): CA-CondMat.txt\n",
      "# Collaboration network of Arxiv Condensed Matter category (there is an edge if authors coauthored at least one paper)\n",
      "# Nodes: 23133 Edges: 186936\n",
      "# FromNodeId\tToNodeId\n",
      "[INFO] 58 arestas cujos nós de ligação são o mesmo vértice\n"
     ]
    }
   ],
   "source": [
    "nodes  = set()\n",
    "edges = []\n",
    "count = 0\n",
    "repetidos = 0\n",
    "with open('./CA-CondMat.txt', 'r') as f:\n",
    "    while True:\n",
    "        linha = f.readline()\n",
    "        count+=1\n",
    "        if not linha:\n",
    "            break\n",
    "        if count > 4:\n",
    "            nodes.add(int(linha.strip().split(\"\\t\")[0]))\n",
    "            nodes.add(int(linha.strip().split(\"\\t\")[1]))\n",
    "            if  int(linha.strip().split(\"\\t\")[0]) != int(linha.strip().split(\"\\t\")[1]):\n",
    "                edges.append([int(linha.strip().split(\"\\t\")[0]), int(linha.strip().split(\"\\t\")[1])])\n",
    "            else:\n",
    "                repetidos +=1\n",
    "        else:\n",
    "            print(linha.strip())\n",
    "print(f\"[INFO] {repetidos} arestas cujos nós de ligação são o mesmo vértice\")"
   ]
  },
  {
   "cell_type": "markdown",
   "id": "ad54b28b",
   "metadata": {},
   "source": [
    "### Adicionando vértices ao grafo"
   ]
  },
  {
   "cell_type": "code",
   "execution_count": 3,
   "id": "9e477986",
   "metadata": {},
   "outputs": [],
   "source": [
    "for node in nodes:\n",
    "    g.add_vertex(node)"
   ]
  },
  {
   "cell_type": "code",
   "execution_count": 4,
   "id": "ded4fe97",
   "metadata": {},
   "outputs": [
    {
     "name": "stdout",
     "output_type": "stream",
     "text": [
      "Número de vértices de g: 23133\n"
     ]
    }
   ],
   "source": [
    "print('Número de vértices de g:', g.num_vertices())"
   ]
  },
  {
   "cell_type": "code",
   "execution_count": 5,
   "id": "edcd3d8f",
   "metadata": {},
   "outputs": [
    {
     "data": {
      "text/plain": [
       "1"
      ]
     },
     "execution_count": 5,
     "metadata": {},
     "output_type": "execute_result"
    }
   ],
   "source": [
    "#Testando\n",
    "u = g.get_vertex(1)\n",
    "u.get_id()"
   ]
  },
  {
   "cell_type": "markdown",
   "id": "cf516a6a",
   "metadata": {},
   "source": [
    "### Adicionando arestas ao grafo\n",
    "\n",
    "Nota-se que existem arestas com ligações repetidas no dataset, dessa forma, trata-se esse erro *Edge with source i and target j already exists*, com objetivo de se identificar a quantidade destes e assim verificar a quantidade de arestas válidas é condizente."
   ]
  },
  {
   "cell_type": "code",
   "execution_count": 6,
   "id": "5691d4b2",
   "metadata": {},
   "outputs": [
    {
     "name": "stdout",
     "output_type": "stream",
     "text": [
      "[INFO] 93439 arestas com ligações repetidas.\n",
      "Total esperado: 93497 arestas válidas\n"
     ]
    }
   ],
   "source": [
    "repetidas = 0\n",
    "for edge in edges:\n",
    "    try:\n",
    "        s,d = edge\n",
    "        g.add_edge(s,d)\n",
    "    except ValueError as error:\n",
    "        repetidas+=1\n",
    "        #print(error)\n",
    "print(f'[INFO] {repetidas} arestas com ligações repetidas.\\nTotal esperado: {186936-repetidas} arestas válidas')"
   ]
  },
  {
   "cell_type": "code",
   "execution_count": 7,
   "id": "82394ba2",
   "metadata": {},
   "outputs": [
    {
     "name": "stdout",
     "output_type": "stream",
     "text": [
      "Número de arestas de g: 93439\n"
     ]
    }
   ],
   "source": [
    "print('Número de arestas de g:', g.num_edges())"
   ]
  },
  {
   "cell_type": "markdown",
   "id": "0244e7fa",
   "metadata": {},
   "source": [
    "## Análise exploratória"
   ]
  },
  {
   "cell_type": "markdown",
   "id": "a5bddefe",
   "metadata": {},
   "source": [
    "### Número de vértices"
   ]
  },
  {
   "cell_type": "code",
   "execution_count": 8,
   "id": "2612f3a5",
   "metadata": {},
   "outputs": [
    {
     "data": {
      "text/plain": [
       "23133"
      ]
     },
     "execution_count": 8,
     "metadata": {},
     "output_type": "execute_result"
    }
   ],
   "source": [
    "n = g.num_vertices()\n",
    "n"
   ]
  },
  {
   "cell_type": "markdown",
   "id": "b4e7ad6b",
   "metadata": {},
   "source": [
    "### Número de arestas"
   ]
  },
  {
   "cell_type": "code",
   "execution_count": 9,
   "id": "b4092a4f",
   "metadata": {},
   "outputs": [
    {
     "data": {
      "text/plain": [
       "93439"
      ]
     },
     "execution_count": 9,
     "metadata": {},
     "output_type": "execute_result"
    }
   ],
   "source": [
    "m = g.num_edges()\n",
    "m"
   ]
  },
  {
   "cell_type": "markdown",
   "id": "e6a947f4",
   "metadata": {},
   "source": [
    "### Densidade"
   ]
  },
  {
   "cell_type": "code",
   "execution_count": 10,
   "id": "591029a6",
   "metadata": {},
   "outputs": [
    {
     "data": {
      "text/plain": [
       "267556278"
      ]
     },
     "execution_count": 10,
     "metadata": {},
     "output_type": "execute_result"
    }
   ],
   "source": [
    "if g.is_directed():\n",
    "    max_edges = n * (n - 1)\n",
    "else:\n",
    "    max_edges = n * (n - 1) // 2\n",
    "max_edges"
   ]
  },
  {
   "cell_type": "code",
   "execution_count": 11,
   "id": "a3c60c3b",
   "metadata": {},
   "outputs": [
    {
     "name": "stdout",
     "output_type": "stream",
     "text": [
      "Densidade é 0.00034923119987489135\n"
     ]
    }
   ],
   "source": [
    "d = m / max_edges\n",
    "d\n",
    "print(f'Densidade é {d}')"
   ]
  },
  {
   "cell_type": "markdown",
   "id": "1f8f3a75",
   "metadata": {},
   "source": [
    "### Estatísticas\n",
    "\n",
    "Iniciando tratamento dos dados"
   ]
  },
  {
   "cell_type": "code",
   "execution_count": 12,
   "id": "1c2358c9",
   "metadata": {},
   "outputs": [
    {
     "name": "stderr",
     "output_type": "stream",
     "text": [
      "<frozen importlib._bootstrap>:914: ImportWarning: VendorImporter.find_spec() not found; falling back to find_module()\n",
      "<frozen importlib._bootstrap>:914: ImportWarning: VendorImporter.find_spec() not found; falling back to find_module()\n",
      "<frozen importlib._bootstrap>:914: ImportWarning: VendorImporter.find_spec() not found; falling back to find_module()\n"
     ]
    }
   ],
   "source": [
    "import seaborn as sns\n",
    "from netpixi.integration.gt import *\n",
    "from regression.integration.gt import *"
   ]
  },
  {
   "cell_type": "code",
   "execution_count": 13,
   "id": "71128734",
   "metadata": {},
   "outputs": [
    {
     "data": {
      "text/html": [
       "<div>\n",
       "<style scoped>\n",
       "    .dataframe tbody tr th:only-of-type {\n",
       "        vertical-align: middle;\n",
       "    }\n",
       "\n",
       "    .dataframe tbody tr th {\n",
       "        vertical-align: top;\n",
       "    }\n",
       "\n",
       "    .dataframe thead th {\n",
       "        text-align: right;\n",
       "    }\n",
       "</style>\n",
       "<table border=\"1\" class=\"dataframe\">\n",
       "  <thead>\n",
       "    <tr style=\"text-align: right;\">\n",
       "      <th></th>\n",
       "    </tr>\n",
       "    <tr>\n",
       "      <th>id</th>\n",
       "    </tr>\n",
       "  </thead>\n",
       "  <tbody>\n",
       "    <tr>\n",
       "      <th>1</th>\n",
       "    </tr>\n",
       "    <tr>\n",
       "      <th>2</th>\n",
       "    </tr>\n",
       "    <tr>\n",
       "      <th>3</th>\n",
       "    </tr>\n",
       "    <tr>\n",
       "      <th>4</th>\n",
       "    </tr>\n",
       "    <tr>\n",
       "      <th>5</th>\n",
       "    </tr>\n",
       "  </tbody>\n",
       "</table>\n",
       "</div>"
      ],
      "text/plain": [
       "Empty DataFrame\n",
       "Columns: []\n",
       "Index: [1, 2, 3, 4, 5]"
      ]
     },
     "execution_count": 13,
     "metadata": {},
     "output_type": "execute_result"
    }
   ],
   "source": [
    "data = gt_data(g)\n",
    "data.head(5)"
   ]
  },
  {
   "cell_type": "markdown",
   "id": "126ec247",
   "metadata": {},
   "source": [
    "Quantificando degrees"
   ]
  },
  {
   "cell_type": "code",
   "execution_count": 14,
   "id": "aab89a70",
   "metadata": {},
   "outputs": [],
   "source": [
    "degrees = []\n",
    "for v in g.all_vertices():\n",
    "    degrees.append(v.total_degree())"
   ]
  },
  {
   "cell_type": "code",
   "execution_count": 15,
   "id": "280f7eda",
   "metadata": {},
   "outputs": [
    {
     "data": {
      "text/html": [
       "<div>\n",
       "<style scoped>\n",
       "    .dataframe tbody tr th:only-of-type {\n",
       "        vertical-align: middle;\n",
       "    }\n",
       "\n",
       "    .dataframe tbody tr th {\n",
       "        vertical-align: top;\n",
       "    }\n",
       "\n",
       "    .dataframe thead th {\n",
       "        text-align: right;\n",
       "    }\n",
       "</style>\n",
       "<table border=\"1\" class=\"dataframe\">\n",
       "  <thead>\n",
       "    <tr style=\"text-align: right;\">\n",
       "      <th></th>\n",
       "      <th>degree</th>\n",
       "    </tr>\n",
       "    <tr>\n",
       "      <th>id</th>\n",
       "      <th></th>\n",
       "    </tr>\n",
       "  </thead>\n",
       "  <tbody>\n",
       "    <tr>\n",
       "      <th>1</th>\n",
       "      <td>3</td>\n",
       "    </tr>\n",
       "    <tr>\n",
       "      <th>2</th>\n",
       "      <td>8</td>\n",
       "    </tr>\n",
       "    <tr>\n",
       "      <th>3</th>\n",
       "      <td>2</td>\n",
       "    </tr>\n",
       "    <tr>\n",
       "      <th>4</th>\n",
       "      <td>4</td>\n",
       "    </tr>\n",
       "    <tr>\n",
       "      <th>5</th>\n",
       "      <td>5</td>\n",
       "    </tr>\n",
       "  </tbody>\n",
       "</table>\n",
       "</div>"
      ],
      "text/plain": [
       "    degree\n",
       "id        \n",
       "1        3\n",
       "2        8\n",
       "3        2\n",
       "4        4\n",
       "5        5"
      ]
     },
     "execution_count": 15,
     "metadata": {},
     "output_type": "execute_result"
    }
   ],
   "source": [
    "data['degree'] = degrees\n",
    "data.head(5)"
   ]
  },
  {
   "cell_type": "markdown",
   "id": "e7d4a182",
   "metadata": {},
   "source": [
    "**Estatísticas e métricas gerais**"
   ]
  },
  {
   "cell_type": "code",
   "execution_count": 16,
   "id": "7c003b1b",
   "metadata": {},
   "outputs": [
    {
     "data": {
      "text/html": [
       "<div>\n",
       "<style scoped>\n",
       "    .dataframe tbody tr th:only-of-type {\n",
       "        vertical-align: middle;\n",
       "    }\n",
       "\n",
       "    .dataframe tbody tr th {\n",
       "        vertical-align: top;\n",
       "    }\n",
       "\n",
       "    .dataframe thead th {\n",
       "        text-align: right;\n",
       "    }\n",
       "</style>\n",
       "<table border=\"1\" class=\"dataframe\">\n",
       "  <thead>\n",
       "    <tr style=\"text-align: right;\">\n",
       "      <th></th>\n",
       "      <th>degree</th>\n",
       "    </tr>\n",
       "  </thead>\n",
       "  <tbody>\n",
       "    <tr>\n",
       "      <th>count</th>\n",
       "      <td>23133.000000</td>\n",
       "    </tr>\n",
       "    <tr>\n",
       "      <th>mean</th>\n",
       "      <td>8.078416</td>\n",
       "    </tr>\n",
       "    <tr>\n",
       "      <th>std</th>\n",
       "      <td>10.627266</td>\n",
       "    </tr>\n",
       "    <tr>\n",
       "      <th>min</th>\n",
       "      <td>1.000000</td>\n",
       "    </tr>\n",
       "    <tr>\n",
       "      <th>25%</th>\n",
       "      <td>3.000000</td>\n",
       "    </tr>\n",
       "    <tr>\n",
       "      <th>50%</th>\n",
       "      <td>5.000000</td>\n",
       "    </tr>\n",
       "    <tr>\n",
       "      <th>75%</th>\n",
       "      <td>9.000000</td>\n",
       "    </tr>\n",
       "    <tr>\n",
       "      <th>max</th>\n",
       "      <td>279.000000</td>\n",
       "    </tr>\n",
       "  </tbody>\n",
       "</table>\n",
       "</div>"
      ],
      "text/plain": [
       "             degree\n",
       "count  23133.000000\n",
       "mean       8.078416\n",
       "std       10.627266\n",
       "min        1.000000\n",
       "25%        3.000000\n",
       "50%        5.000000\n",
       "75%        9.000000\n",
       "max      279.000000"
      ]
     },
     "execution_count": 16,
     "metadata": {},
     "output_type": "execute_result"
    }
   ],
   "source": [
    "data['degree'].describe().to_frame()"
   ]
  },
  {
   "cell_type": "markdown",
   "id": "a155ceb4",
   "metadata": {},
   "source": [
    "**Histograma**"
   ]
  },
  {
   "cell_type": "code",
   "execution_count": 17,
   "id": "795fd8f1",
   "metadata": {},
   "outputs": [
    {
     "data": {
      "text/plain": [
       "<AxesSubplot: xlabel='degree', ylabel='Count'>"
      ]
     },
     "execution_count": 17,
     "metadata": {},
     "output_type": "execute_result"
    },
    {
     "data": {
      "image/png": "[encoded data removed]",
      "text/plain": [
       "<Figure size 640x480 with 1 Axes>"
      ]
     },
     "metadata": {},
     "output_type": "display_data"
    }
   ],
   "source": [
    "sns.histplot(data['degree'])"
   ]
  },
  {
   "cell_type": "markdown",
   "id": "8ddc2114",
   "metadata": {},
   "source": [
    "## Análise Visual"
   ]
  },
  {
   "cell_type": "code",
   "execution_count": 18,
   "id": "b4dfb1ad",
   "metadata": {},
   "outputs": [],
   "source": [
    "import netpixi"
   ]
  },
  {
   "cell_type": "markdown",
   "id": "8868bd5a",
   "metadata": {},
   "source": [
    "### Salvando grafo em formato ZipNet"
   ]
  },
  {
   "cell_type": "code",
   "execution_count": 74,
   "id": "b3c8ecdf",
   "metadata": {},
   "outputs": [],
   "source": [
    "gt_save(g, 'CondMat.net.gz')"
   ]
  },
  {
   "cell_type": "markdown",
   "id": "63290bcd",
   "metadata": {},
   "source": [
    "### Carregando modelo para visualização"
   ]
  },
  {
   "cell_type": "code",
   "execution_count": 19,
   "id": "5075f847",
   "metadata": {},
   "outputs": [],
   "source": [
    "g = gt_load('CondMat.net.gz')"
   ]
  },
  {
   "cell_type": "markdown",
   "id": "8e5957c2",
   "metadata": {},
   "source": [
    "### Visualização inicial"
   ]
  },
  {
   "cell_type": "code",
   "execution_count": 20,
   "id": "cee829d7",
   "metadata": {},
   "outputs": [
    {
     "data": {
      "text/html": [
       "\n",
       "        <div id=\"jWDyZKT2xKUGWUbB7Utn8j\"></div>\n",
       "        <script>netpixi.render('jWDyZKT2xKUGWUbB7Utn8j', 'CondMat.net.gz', 1.7777777777777777, true, false, false);</script>\n",
       "    "
      ],
      "text/plain": [
       "<IPython.core.display.HTML object>"
      ]
     },
     "metadata": {},
     "output_type": "display_data"
    }
   ],
   "source": [
    "r1 = netpixi.render('CondMat.net.gz');"
   ]
  },
  {
   "cell_type": "code",
   "execution_count": 21,
   "id": "106081e8",
   "metadata": {},
   "outputs": [
    {
     "data": {
      "text/html": [
       "\n",
       "        <div id=\"MkcoiyGDDqTFsB5p2bFRwh\"></div>\n",
       "        <script>netpixi.call('MkcoiyGDDqTFsB5p2bFRwh', 'jWDyZKT2xKUGWUbB7Utn8j', 'changeGraph', 'eyJ0eXBlIjogInNldHRpbmdzIiwgInByb3BzIjogeyJ2ZXJ0ZXgiOiB7InNpemUiOiA1fX19Cg==');</script>\n",
       "    "
      ],
      "text/plain": [
       "<IPython.core.display.HTML object>"
      ]
     },
     "metadata": {},
     "output_type": "display_data"
    },
    {
     "data": {
      "text/html": [
       "\n",
       "        <div id=\"iThnBosHMLdCwDfdWdGGc7\"></div>\n",
       "        <script>netpixi.call('iThnBosHMLdCwDfdWdGGc7', 'jWDyZKT2xKUGWUbB7Utn8j', 'changeGraph', 'eyJ0eXBlIjogInNldHRpbmdzIiwgInByb3BzIjogeyJlZGdlIjogeyJ3aWR0aCI6IDV9fX0K');</script>\n",
       "    "
      ],
      "text/plain": [
       "<IPython.core.display.HTML object>"
      ]
     },
     "metadata": {},
     "output_type": "display_data"
    }
   ],
   "source": [
    "#Ajustando propriedades\n",
    "r1.vertex_default(size=5)\n",
    "r1.edge_default( width=5)"
   ]
  },
  {
   "cell_type": "markdown",
   "id": "f54c3a40",
   "metadata": {},
   "source": [
    "#### Grafo salvo em png após modificações"
   ]
  },
  {
   "cell_type": "markdown",
   "id": "79e8d187",
   "metadata": {},
   "source": [
    "<img width='600px' src=\"CondMat.net.gz.png\"/>"
   ]
  },
  {
   "cell_type": "markdown",
   "id": "a67a1644",
   "metadata": {},
   "source": [
    "## Posicionando o grafo com a ideia de force-directed graph drawing."
   ]
  },
  {
   "cell_type": "code",
   "execution_count": null,
   "id": "04b362f6",
   "metadata": {},
   "outputs": [],
   "source": [
    "m = gt_draw.sfdp_layout(g)\n",
    "gt_move(g, m)\n",
    "gt_save(g, 'CondMat_sfpd.net.gz')\n",
    "r2 = netpixi.render('CondMat_sfpd.net.gz');"
   ]
  },
  {
   "cell_type": "code",
   "execution_count": 21,
   "id": "b553742d",
   "metadata": {},
   "outputs": [
    {
     "data": {
      "text/html": [
       "\n",
       "        <div id=\"ZLR9bAHKrKmWgdKkS7nK7N\"></div>\n",
       "        <script>netpixi.call('ZLR9bAHKrKmWgdKkS7nK7N', 'YuBfj9FbBqF2q9mxiPpmL4', 'changeGraph', 'eyJ0eXBlIjogInNldHRpbmdzIiwgInByb3BzIjogeyJ2ZXJ0ZXgiOiB7InNpemUiOiA1fX19Cg==');</script>\n",
       "    "
      ],
      "text/plain": [
       "<IPython.core.display.HTML object>"
      ]
     },
     "metadata": {},
     "output_type": "display_data"
    },
    {
     "data": {
      "text/html": [
       "\n",
       "        <div id=\"AykDxHPLCLpwZohonRvEvG\"></div>\n",
       "        <script>netpixi.call('AykDxHPLCLpwZohonRvEvG', 'YuBfj9FbBqF2q9mxiPpmL4', 'changeGraph', 'eyJ0eXBlIjogInNldHRpbmdzIiwgInByb3BzIjogeyJlZGdlIjogeyJ3aWR0aCI6IDF9fX0K');</script>\n",
       "    "
      ],
      "text/plain": [
       "<IPython.core.display.HTML object>"
      ]
     },
     "metadata": {},
     "output_type": "display_data"
    }
   ],
   "source": [
    "#Ajustando propriedades\n",
    "r2.vertex_default(size=5)\n",
    "r2.edge_default( width=1)"
   ]
  },
  {
   "cell_type": "markdown",
   "id": "71c61653",
   "metadata": {},
   "source": [
    "#### Grafo salvo em png após modificações\n",
    "\n",
    "<img width=\"600px\" src=\"CondMat_sfpd.net.gz.png\" />"
   ]
  },
  {
   "cell_type": "markdown",
   "id": "16a5c8d9",
   "metadata": {},
   "source": [
    "### Limpando e isolando a componente principal do grafo\n",
    "\n",
    "Conforme percebido na figura anterior, há uma componente principal, podemos isolá-la para melhor visualização."
   ]
  },
  {
   "cell_type": "code",
   "execution_count": null,
   "id": "cfb34f78",
   "metadata": {},
   "outputs": [],
   "source": [
    "g = gt_clean(g)\n",
    "m = gt_draw.sfdp_layout(g)\n",
    "gt_move(g, m)\n",
    "gt_save(g, 'CondMat_sfdp_clean.net.gz')\n",
    "r3 = netpixi.render('CondMat_sfdp_clean.net.gz',infinite=True);"
   ]
  },
  {
   "cell_type": "code",
   "execution_count": 24,
   "id": "60c9d473",
   "metadata": {},
   "outputs": [
    {
     "data": {
      "text/html": [
       "\n",
       "        <div id=\"FbHpSrLPXGA8FwfRLfUsEu\"></div>\n",
       "        <script>netpixi.call('FbHpSrLPXGA8FwfRLfUsEu', 'EAMhQniA52SyCkwwbVSSEF', 'changeGraph', 'eyJ0eXBlIjogInNldHRpbmdzIiwgInByb3BzIjogeyJ2ZXJ0ZXgiOiB7InNpemUiOiA1fX19Cg==');</script>\n",
       "    "
      ],
      "text/plain": [
       "<IPython.core.display.HTML object>"
      ]
     },
     "metadata": {},
     "output_type": "display_data"
    },
    {
     "data": {
      "text/html": [
       "\n",
       "        <div id=\"ShJhBxRECCN3VbjwXnRHsP\"></div>\n",
       "        <script>netpixi.call('ShJhBxRECCN3VbjwXnRHsP', 'EAMhQniA52SyCkwwbVSSEF', 'changeGraph', 'eyJ0eXBlIjogInNldHRpbmdzIiwgInByb3BzIjogeyJlZGdlIjogeyJ3aWR0aCI6IDV9fX0K');</script>\n",
       "    "
      ],
      "text/plain": [
       "<IPython.core.display.HTML object>"
      ]
     },
     "metadata": {},
     "output_type": "display_data"
    }
   ],
   "source": [
    "r3.vertex_default(size=5)\n",
    "r3.edge_default( width=1)"
   ]
  },
  {
   "cell_type": "markdown",
   "id": "106bc836",
   "metadata": {},
   "source": [
    "#### Imagem do grafo gerado\n",
    "\n",
    "<img src=\"CondMat_sfdp_clean.net.gz.png\" width=\"600px\"/>"
   ]
  },
  {
   "cell_type": "markdown",
   "id": "2472b383",
   "metadata": {},
   "source": [
    "EOF"
   ]
  }
 ],
 "metadata": {
  "kernelspec": {
   "display_name": "Python 3 (ipykernel)",
   "language": "python",
   "name": "python3"
  },
  "language_info": {
   "codemirror_mode": {
    "name": "ipython",
    "version": 3
   },
   "file_extension": ".py",
   "mimetype": "text/x-python",
   "name": "python",
   "nbconvert_exporter": "python",
   "pygments_lexer": "ipython3",
   "version": "3.10.10"
  }
 },
 "nbformat": 4,
 "nbformat_minor": 5
}
