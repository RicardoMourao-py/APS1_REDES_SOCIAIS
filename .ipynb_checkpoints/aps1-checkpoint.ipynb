{
 "cells": [
  {
   "cell_type": "markdown",
   "id": "d3b40433",
   "metadata": {},
   "source": [
    " 1. Construa um grafo baseado nesse dataset. (tutoriais A1, A3)"
   ]
  },
  {
   "cell_type": "code",
   "execution_count": null,
   "id": "50f3b2da",
   "metadata": {},
   "outputs": [],
   "source": []
  }
 ],
 "metadata": {
  "kernelspec": {
   "display_name": "Python 3 (ipykernel)",
   "language": "python",
   "name": "python3"
  },
  "language_info": {
   "codemirror_mode": {
    "name": "ipython",
    "version": 3
   },
   "file_extension": ".py",
   "mimetype": "text/x-python",
   "name": "python",
   "nbconvert_exporter": "python",
   "pygments_lexer": "ipython3",
   "version": "3.8.3"
  }
 },
 "nbformat": 4,
 "nbformat_minor": 5
}
